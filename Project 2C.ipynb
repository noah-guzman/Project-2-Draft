{
 "cells": [
  {
   "cell_type": "markdown",
   "id": "19a62c1f",
   "metadata": {},
   "source": [
    "Pairwise Sequence Alignment"
   ]
  },
  {
   "cell_type": "code",
   "execution_count": 2,
   "id": "c45a0c15",
   "metadata": {},
   "outputs": [],
   "source": [
    "import pandas as pd"
   ]
  },
  {
   "cell_type": "code",
   "execution_count": 3,
   "id": "c2f54519",
   "metadata": {},
   "outputs": [],
   "source": [
    "from Bio import pairwise2\n",
    "from Bio.Seq import Seq\n",
    "from Bio.pairwise2 import format_alignment"
   ]
  },
  {
   "cell_type": "code",
   "execution_count": 5,
   "id": "52b3b971",
   "metadata": {},
   "outputs": [
    {
     "name": "stdout",
     "output_type": "stream",
     "text": [
      "    gene_id gene_symbol                                   description  \\\n",
      "0      6323       SCN1A  sodium voltage-gated channel alpha subunit 1   \n",
      "1      6323       SCN1A  sodium voltage-gated channel alpha subunit 1   \n",
      "2      6323       SCN1A  sodium voltage-gated channel alpha subunit 1   \n",
      "3      6323       SCN1A  sodium voltage-gated channel alpha subunit 1   \n",
      "4      6323       SCN1A  sodium voltage-gated channel alpha subunit 1   \n",
      "5      6323       SCN1A  sodium voltage-gated channel alpha subunit 1   \n",
      "6      6323       SCN1A  sodium voltage-gated channel alpha subunit 1   \n",
      "7      6323       SCN1A  sodium voltage-gated channel alpha subunit 1   \n",
      "8      6323       SCN1A  sodium voltage-gated channel alpha subunit 1   \n",
      "9      6323       SCN1A  sodium voltage-gated channel alpha subunit 1   \n",
      "10     6323       SCN1A  sodium voltage-gated channel alpha subunit 1   \n",
      "11     6323       SCN1A  sodium voltage-gated channel alpha subunit 1   \n",
      "12     6323       SCN1A  sodium voltage-gated channel alpha subunit 1   \n",
      "13     6323       SCN1A  sodium voltage-gated channel alpha subunit 1   \n",
      "14     6323       SCN1A  sodium voltage-gated channel alpha subunit 1   \n",
      "15     6323       SCN1A  sodium voltage-gated channel alpha subunit 1   \n",
      "16     6323       SCN1A  sodium voltage-gated channel alpha subunit 1   \n",
      "17     6323       SCN1A  sodium voltage-gated channel alpha subunit 1   \n",
      "\n",
      "   scientific_name common_name  tax_id  \\\n",
      "0     Homo sapiens       human    9606   \n",
      "1     Homo sapiens       human    9606   \n",
      "2     Homo sapiens       human    9606   \n",
      "3     Homo sapiens       human    9606   \n",
      "4     Homo sapiens       human    9606   \n",
      "5     Homo sapiens       human    9606   \n",
      "6     Homo sapiens       human    9606   \n",
      "7     Homo sapiens       human    9606   \n",
      "8     Homo sapiens       human    9606   \n",
      "9     Homo sapiens       human    9606   \n",
      "10    Homo sapiens       human    9606   \n",
      "11    Homo sapiens       human    9606   \n",
      "12    Homo sapiens       human    9606   \n",
      "13    Homo sapiens       human    9606   \n",
      "14    Homo sapiens       human    9606   \n",
      "15    Homo sapiens       human    9606   \n",
      "16    Homo sapiens       human    9606   \n",
      "17    Homo sapiens       human    9606   \n",
      "\n",
      "                                        genomic_range orientation location  \\\n",
      "0   NC_000002.12:165984641-166149161;NC_060926.1:1...         -;-    chr 2   \n",
      "1   NC_000002.12:165984641-166149161;NC_060926.1:1...         -;-    chr 2   \n",
      "2   NC_000002.12:165984641-166149161;NC_060926.1:1...         -;-    chr 2   \n",
      "3   NC_000002.12:165984641-166149161;NC_060926.1:1...         -;-    chr 2   \n",
      "4   NC_000002.12:165984641-166149161;NC_060926.1:1...         -;-    chr 2   \n",
      "5   NC_000002.12:165984641-166149161;NC_060926.1:1...         -;-    chr 2   \n",
      "6   NC_000002.12:165984641-166149161;NC_060926.1:1...         -;-    chr 2   \n",
      "7   NC_000002.12:165984641-166149161;NC_060926.1:1...         -;-    chr 2   \n",
      "8   NC_000002.12:165984641-166149161;NC_060926.1:1...         -;-    chr 2   \n",
      "9   NC_000002.12:165984641-166149161;NC_060926.1:1...         -;-    chr 2   \n",
      "10  NC_000002.12:165984641-166149161;NC_060926.1:1...         -;-    chr 2   \n",
      "11  NC_000002.12:165984641-166149161;NC_060926.1:1...         -;-    chr 2   \n",
      "12  NC_000002.12:165984641-166149161;NC_060926.1:1...         -;-    chr 2   \n",
      "13  NC_000002.12:165984641-166149161;NC_060926.1:1...         -;-    chr 2   \n",
      "14  NC_000002.12:165984641-166149161;NC_060926.1:1...         -;-    chr 2   \n",
      "15  NC_000002.12:165984641-166149161;NC_060926.1:1...         -;-    chr 2   \n",
      "16  NC_000002.12:165984641-166149161;NC_060926.1:1...         -;-    chr 2   \n",
      "17  NC_000002.12:165984641-166149161;NC_060926.1:1...         -;-    chr 2   \n",
      "\n",
      "         gene_type transcript_accession        transcript_name  \\\n",
      "0   PROTEIN_CODING          NR_148667.2  transcript variant 16   \n",
      "1   PROTEIN_CODING       NM_001353949.2   transcript variant 6   \n",
      "2   PROTEIN_CODING       NM_001353958.2  transcript variant 13   \n",
      "3   PROTEIN_CODING       NM_001353950.2   transcript variant 7   \n",
      "4   PROTEIN_CODING       NM_001202435.3   transcript variant 4   \n",
      "5   PROTEIN_CODING       NM_001353955.2  transcript variant 11   \n",
      "6   PROTEIN_CODING       NM_001353957.2  transcript variant 12   \n",
      "7   PROTEIN_CODING       NM_001353951.2   transcript variant 8   \n",
      "8   PROTEIN_CODING       NM_001353948.2   transcript variant 5   \n",
      "9   PROTEIN_CODING       NM_001353960.2  transcript variant 14   \n",
      "10  PROTEIN_CODING       NM_001353954.2  transcript variant 10   \n",
      "11  PROTEIN_CODING       XM_047445392.1  transcript variant X1   \n",
      "12  PROTEIN_CODING       NM_001165964.3   transcript variant 3   \n",
      "13  PROTEIN_CODING       NM_001353952.2   transcript variant 9   \n",
      "14  PROTEIN_CODING       NM_001353961.2  transcript variant 15   \n",
      "15  PROTEIN_CODING          NM_006920.6   transcript variant 2   \n",
      "16  PROTEIN_CODING       NM_001165963.4   transcript variant 1   \n",
      "17  PROTEIN_CODING       XM_047445393.1  transcript variant X2   \n",
      "\n",
      "    transcript_length     transcript_cds_coords protein_accession  \\\n",
      "0               13051                       NaN               NaN   \n",
      "1               12765   NM_001353949.2:165-6161    NP_001340878.1   \n",
      "2               12806   NM_001353958.2:257-6202    NP_001340887.1   \n",
      "3               12857   NM_001353950.2:257-6253    NP_001340879.1   \n",
      "4               12890   NM_001202435.3:257-6286    NP_001189364.1   \n",
      "5               12897   NM_001353955.2:300-6293    NP_001340884.1   \n",
      "6               12849   NM_001353957.2:300-6245    NP_001340886.1   \n",
      "7               12900   NM_001353951.2:300-6296    NP_001340880.1   \n",
      "8               12933   NM_001353948.2:300-6329    NP_001340877.1   \n",
      "9               12938   NM_001353960.2:392-6334    NP_001340889.1   \n",
      "10              12989   NM_001353954.2:392-6385    NP_001340883.1   \n",
      "11              13022   XM_047445392.1:392-6418    XP_047301348.1   \n",
      "12              12941   NM_001165964.3:392-6337    NP_001159436.1   \n",
      "13              12992   NM_001353952.2:392-6388    NP_001340881.1   \n",
      "14              13008  NM_001353961.2:2817-6404    NP_001340890.1   \n",
      "15              13079      NM_006920.6:479-6475       NP_008851.3   \n",
      "16              11940   NM_001165963.4:479-6508    NP_001159435.1   \n",
      "17               4676   XM_047445393.1:392-4588    XP_047301349.1   \n",
      "\n",
      "   isoform_name  protein_length                                 protein_name  \n",
      "0           NaN             NaN                                          NaN  \n",
      "1     isoform 2          1998.0  sodium channel protein type 1 subunit alpha  \n",
      "2     isoform 3          1981.0  sodium channel protein type 1 subunit alpha  \n",
      "3     isoform 2          1998.0  sodium channel protein type 1 subunit alpha  \n",
      "4     isoform 1          2009.0  sodium channel protein type 1 subunit alpha  \n",
      "5     isoform 4          1997.0  sodium channel protein type 1 subunit alpha  \n",
      "6     isoform 3          1981.0  sodium channel protein type 1 subunit alpha  \n",
      "7     isoform 2          1998.0  sodium channel protein type 1 subunit alpha  \n",
      "8     isoform 1          2009.0  sodium channel protein type 1 subunit alpha  \n",
      "9     isoform 5          1980.0  sodium channel protein type 1 subunit alpha  \n",
      "10    isoform 4          1997.0  sodium channel protein type 1 subunit alpha  \n",
      "11   isoform X1          2008.0  sodium channel protein type 1 subunit alpha  \n",
      "12    isoform 3          1981.0  sodium channel protein type 1 subunit alpha  \n",
      "13    isoform 2          1998.0  sodium channel protein type 1 subunit alpha  \n",
      "14    isoform 6          1195.0  sodium channel protein type 1 subunit alpha  \n",
      "15    isoform 2          1998.0  sodium channel protein type 1 subunit alpha  \n",
      "16    isoform 1          2009.0  sodium channel protein type 1 subunit alpha  \n",
      "17   isoform X2          1398.0  sodium channel protein type 1 subunit alpha  \n"
     ]
    }
   ],
   "source": [
    "genes_df = pd.read_csv('data_table.tsv', sep='\\t')\n",
    "\n",
    "print(genes_df)"
   ]
  },
  {
   "cell_type": "code",
   "execution_count": 8,
   "id": "bfd3c656",
   "metadata": {},
   "outputs": [
    {
     "name": "stdout",
     "output_type": "stream",
     "text": [
      "Collecting pysam\n",
      "  Downloading pysam-0.19.1-cp39-cp39-macosx_10_9_x86_64.whl (3.2 MB)\n",
      "\u001b[K     |████████████████████████████████| 3.2 MB 1.6 MB/s eta 0:00:01\n",
      "\u001b[?25hInstalling collected packages: pysam\n",
      "Successfully installed pysam-0.19.1\n",
      "Note: you may need to restart the kernel to use updated packages.\n"
     ]
    }
   ],
   "source": [
    "pip install pysam"
   ]
  },
  {
   "cell_type": "code",
   "execution_count": 9,
   "id": "021cd27b",
   "metadata": {},
   "outputs": [],
   "source": [
    "from pysam import FastaFile"
   ]
  },
  {
   "cell_type": "code",
   "execution_count": 11,
   "id": "36cbcd0f",
   "metadata": {},
   "outputs": [
    {
     "name": "stdout",
     "output_type": "stream",
     "text": [
      "<pysam.libcfaidx.FastaFile object at 0x7fa33ba8bc40>\n"
     ]
    }
   ],
   "source": [
    "fasta = \"gene1.fa\"\n",
    "\n",
    "sequences = FastaFile(fasta)\n",
    "\n",
    "print(sequences)"
   ]
  },
  {
   "cell_type": "code",
   "execution_count": 14,
   "id": "74c011b7",
   "metadata": {},
   "outputs": [
    {
     "name": "stdout",
     "output_type": "stream",
     "text": [
      "--TGTGACT-A\n",
      "  || |  | |\n",
      "CATG-G--TCA\n",
      "  Score=5\n",
      "\n",
      "--TGTGA-CTA\n",
      "  || |  | |\n",
      "CATG-G-TC-A\n",
      "  Score=5\n",
      "\n",
      "--TGTGACTA\n",
      "  || |.| |\n",
      "CATG-GTC-A\n",
      "  Score=5\n",
      "\n",
      "--TG-TGACTA\n",
      "  || |  | |\n",
      "CATGGT--C-A\n",
      "  Score=5\n",
      "\n",
      "--T-GTGACTA\n",
      "  | ||  | |\n",
      "CATGGT--C-A\n",
      "  Score=5\n",
      "\n"
     ]
    }
   ],
   "source": [
    "seq1 = Seq(\"TGTGACTA\")\n",
    "seq2 = Seq(\"CATGGTCA\")\n",
    "\n",
    "alignments = pairwise2.align.globalxx(seq1, seq2)\n",
    "\n",
    "for alignment in alignments:\n",
    "    print(format_alignment(*alignment))"
   ]
  },
  {
   "cell_type": "markdown",
   "id": "a35bd919",
   "metadata": {},
   "source": [
    "Hierarchical clustering"
   ]
  },
  {
   "cell_type": "code",
   "execution_count": 15,
   "id": "7c86a8db",
   "metadata": {},
   "outputs": [],
   "source": [
    "import matplotlib.pyplot as plt"
   ]
  },
  {
   "cell_type": "code",
   "execution_count": 17,
   "id": "abff9cc4",
   "metadata": {},
   "outputs": [
    {
     "ename": "NameError",
     "evalue": "name 'X' is not defined",
     "output_type": "error",
     "traceback": [
      "\u001b[0;31m---------------------------------------------------------------------------\u001b[0m",
      "\u001b[0;31mNameError\u001b[0m                                 Traceback (most recent call last)",
      "\u001b[0;32m/var/folders/rf/y5v215s10c93zgnvtw2189040000gn/T/ipykernel_2329/4192819540.py\u001b[0m in \u001b[0;36m<module>\u001b[0;34m\u001b[0m\n\u001b[1;32m      2\u001b[0m \u001b[0mplt\u001b[0m\u001b[0;34m.\u001b[0m\u001b[0mfigure\u001b[0m\u001b[0;34m(\u001b[0m\u001b[0mfigsize\u001b[0m\u001b[0;34m=\u001b[0m\u001b[0;34m(\u001b[0m\u001b[0;36m10\u001b[0m\u001b[0;34m,\u001b[0m \u001b[0;36m7\u001b[0m\u001b[0;34m)\u001b[0m\u001b[0;34m)\u001b[0m\u001b[0;34m\u001b[0m\u001b[0;34m\u001b[0m\u001b[0m\n\u001b[1;32m      3\u001b[0m \u001b[0mplt\u001b[0m\u001b[0;34m.\u001b[0m\u001b[0msubplots_adjust\u001b[0m\u001b[0;34m(\u001b[0m\u001b[0mbottom\u001b[0m\u001b[0;34m=\u001b[0m\u001b[0;36m0.1\u001b[0m\u001b[0;34m)\u001b[0m\u001b[0;34m\u001b[0m\u001b[0;34m\u001b[0m\u001b[0m\n\u001b[0;32m----> 4\u001b[0;31m \u001b[0mplt\u001b[0m\u001b[0;34m.\u001b[0m\u001b[0mscatter\u001b[0m\u001b[0;34m(\u001b[0m\u001b[0mX\u001b[0m\u001b[0;34m[\u001b[0m\u001b[0;34m:\u001b[0m\u001b[0;34m,\u001b[0m\u001b[0;36m0\u001b[0m\u001b[0;34m]\u001b[0m\u001b[0;34m,\u001b[0m\u001b[0mX\u001b[0m\u001b[0;34m[\u001b[0m\u001b[0;34m:\u001b[0m\u001b[0;34m,\u001b[0m\u001b[0;36m1\u001b[0m\u001b[0;34m]\u001b[0m\u001b[0;34m,\u001b[0m \u001b[0mlabel\u001b[0m\u001b[0;34m=\u001b[0m\u001b[0;34m'True Position'\u001b[0m\u001b[0;34m)\u001b[0m\u001b[0;34m\u001b[0m\u001b[0;34m\u001b[0m\u001b[0m\n\u001b[0m\u001b[1;32m      5\u001b[0m \u001b[0;34m\u001b[0m\u001b[0m\n\u001b[1;32m      6\u001b[0m \u001b[0;32mfor\u001b[0m \u001b[0mlabel\u001b[0m\u001b[0;34m,\u001b[0m \u001b[0mx\u001b[0m\u001b[0;34m,\u001b[0m \u001b[0my\u001b[0m \u001b[0;32min\u001b[0m \u001b[0mzip\u001b[0m\u001b[0;34m(\u001b[0m\u001b[0mlabels\u001b[0m\u001b[0;34m,\u001b[0m \u001b[0mX\u001b[0m\u001b[0;34m[\u001b[0m\u001b[0;34m:\u001b[0m\u001b[0;34m,\u001b[0m \u001b[0;36m0\u001b[0m\u001b[0;34m]\u001b[0m\u001b[0;34m,\u001b[0m \u001b[0mX\u001b[0m\u001b[0;34m[\u001b[0m\u001b[0;34m:\u001b[0m\u001b[0;34m,\u001b[0m \u001b[0;36m1\u001b[0m\u001b[0;34m]\u001b[0m\u001b[0;34m)\u001b[0m\u001b[0;34m:\u001b[0m\u001b[0;34m\u001b[0m\u001b[0;34m\u001b[0m\u001b[0m\n",
      "\u001b[0;31mNameError\u001b[0m: name 'X' is not defined"
     ]
    },
    {
     "data": {
      "text/plain": [
       "<Figure size 720x504 with 0 Axes>"
      ]
     },
     "metadata": {},
     "output_type": "display_data"
    }
   ],
   "source": [
    "labels = range(1, 11)\n",
    "plt.figure(figsize=(10, 7))\n",
    "plt.subplots_adjust(bottom=0.1)\n",
    "plt.scatter(X[:,0],X[:,1], label='True Position')\n",
    "\n",
    "for label, x, y in zip(labels, X[:, 0], X[:, 1]):\n",
    "    plt.annotate(\n",
    "        label,\n",
    "        xy=(x, y), xytext=(-3, 3),\n",
    "        textcoords='offset points', ha='right', va='bottom')\n",
    "plt.show()"
   ]
  },
  {
   "cell_type": "code",
   "execution_count": 18,
   "id": "21a61c1d",
   "metadata": {},
   "outputs": [
    {
     "ename": "NameError",
     "evalue": "name 'np' is not defined",
     "output_type": "error",
     "traceback": [
      "\u001b[0;31m---------------------------------------------------------------------------\u001b[0m",
      "\u001b[0;31mNameError\u001b[0m                                 Traceback (most recent call last)",
      "\u001b[0;32m/var/folders/rf/y5v215s10c93zgnvtw2189040000gn/T/ipykernel_2329/2869036954.py\u001b[0m in \u001b[0;36m<module>\u001b[0;34m\u001b[0m\n\u001b[0;32m----> 1\u001b[0;31m X = np.array([[5,3],\n\u001b[0m\u001b[1;32m      2\u001b[0m     \u001b[0;34m[\u001b[0m\u001b[0;36m10\u001b[0m\u001b[0;34m,\u001b[0m\u001b[0;36m15\u001b[0m\u001b[0;34m]\u001b[0m\u001b[0;34m,\u001b[0m\u001b[0;34m\u001b[0m\u001b[0;34m\u001b[0m\u001b[0m\n\u001b[1;32m      3\u001b[0m     \u001b[0;34m[\u001b[0m\u001b[0;36m15\u001b[0m\u001b[0;34m,\u001b[0m\u001b[0;36m12\u001b[0m\u001b[0;34m]\u001b[0m\u001b[0;34m,\u001b[0m\u001b[0;34m\u001b[0m\u001b[0;34m\u001b[0m\u001b[0m\n\u001b[1;32m      4\u001b[0m     \u001b[0;34m[\u001b[0m\u001b[0;36m24\u001b[0m\u001b[0;34m,\u001b[0m\u001b[0;36m10\u001b[0m\u001b[0;34m]\u001b[0m\u001b[0;34m,\u001b[0m\u001b[0;34m\u001b[0m\u001b[0;34m\u001b[0m\u001b[0m\n\u001b[1;32m      5\u001b[0m     \u001b[0;34m[\u001b[0m\u001b[0;36m30\u001b[0m\u001b[0;34m,\u001b[0m\u001b[0;36m30\u001b[0m\u001b[0;34m]\u001b[0m\u001b[0;34m,\u001b[0m\u001b[0;34m\u001b[0m\u001b[0;34m\u001b[0m\u001b[0m\n",
      "\u001b[0;31mNameError\u001b[0m: name 'np' is not defined"
     ]
    }
   ],
   "source": [
    "X = np.array([[5,3],\n",
    "    [10,15],\n",
    "    [15,12],\n",
    "    [24,10],\n",
    "    [30,30],\n",
    "    [85,70],\n",
    "    [71,80],\n",
    "    [60,78],\n",
    "    [70,55],\n",
    "    [80,91],])"
   ]
  },
  {
   "cell_type": "code",
   "execution_count": 19,
   "id": "2db5d5fe",
   "metadata": {},
   "outputs": [],
   "source": [
    "from scipy.cluster.hierarchy import dendrogram, linkage\n",
    "from matplotlib import pyplot as plt"
   ]
  },
  {
   "cell_type": "code",
   "execution_count": 20,
   "id": "cedabc9e",
   "metadata": {},
   "outputs": [
    {
     "ename": "NameError",
     "evalue": "name 'X' is not defined",
     "output_type": "error",
     "traceback": [
      "\u001b[0;31m---------------------------------------------------------------------------\u001b[0m",
      "\u001b[0;31mNameError\u001b[0m                                 Traceback (most recent call last)",
      "\u001b[0;32m/var/folders/rf/y5v215s10c93zgnvtw2189040000gn/T/ipykernel_2329/293007766.py\u001b[0m in \u001b[0;36m<module>\u001b[0;34m\u001b[0m\n\u001b[0;32m----> 1\u001b[0;31m \u001b[0mlinked\u001b[0m \u001b[0;34m=\u001b[0m \u001b[0mlinkage\u001b[0m\u001b[0;34m(\u001b[0m\u001b[0mX\u001b[0m\u001b[0;34m,\u001b[0m \u001b[0;34m'single'\u001b[0m\u001b[0;34m)\u001b[0m\u001b[0;34m\u001b[0m\u001b[0;34m\u001b[0m\u001b[0m\n\u001b[0m\u001b[1;32m      2\u001b[0m \u001b[0;34m\u001b[0m\u001b[0m\n\u001b[1;32m      3\u001b[0m \u001b[0mlabelList\u001b[0m \u001b[0;34m=\u001b[0m \u001b[0mrange\u001b[0m\u001b[0;34m(\u001b[0m\u001b[0;36m1\u001b[0m\u001b[0;34m,\u001b[0m \u001b[0;36m11\u001b[0m\u001b[0;34m)\u001b[0m\u001b[0;34m\u001b[0m\u001b[0;34m\u001b[0m\u001b[0m\n\u001b[1;32m      4\u001b[0m \u001b[0;34m\u001b[0m\u001b[0m\n\u001b[1;32m      5\u001b[0m \u001b[0mplt\u001b[0m\u001b[0;34m.\u001b[0m\u001b[0mfigure\u001b[0m\u001b[0;34m(\u001b[0m\u001b[0mfigsize\u001b[0m\u001b[0;34m=\u001b[0m\u001b[0;34m(\u001b[0m\u001b[0;36m10\u001b[0m\u001b[0;34m,\u001b[0m \u001b[0;36m7\u001b[0m\u001b[0;34m)\u001b[0m\u001b[0;34m)\u001b[0m\u001b[0;34m\u001b[0m\u001b[0;34m\u001b[0m\u001b[0m\n",
      "\u001b[0;31mNameError\u001b[0m: name 'X' is not defined"
     ]
    }
   ],
   "source": [
    "linked = linkage(X, 'single')\n",
    "\n",
    "labelList = range(1, 11)\n",
    "\n",
    "plt.figure(figsize=(10, 7))\n",
    "dendrogram(linked,\n",
    "            orientation='top',\n",
    "            labels=labelList,\n",
    "            distance_sort='descending',\n",
    "            show_leaf_counts=True)\n",
    "plt.show()"
   ]
  }
 ],
 "metadata": {
  "kernelspec": {
   "display_name": "Python 3 (ipykernel)",
   "language": "python",
   "name": "python3"
  },
  "language_info": {
   "codemirror_mode": {
    "name": "ipython",
    "version": 3
   },
   "file_extension": ".py",
   "mimetype": "text/x-python",
   "name": "python",
   "nbconvert_exporter": "python",
   "pygments_lexer": "ipython3",
   "version": "3.9.7"
  }
 },
 "nbformat": 4,
 "nbformat_minor": 5
}
